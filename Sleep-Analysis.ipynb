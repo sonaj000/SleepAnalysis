{
 "cells": [
  {
   "cell_type": "code",
   "execution_count": 343,
   "metadata": {},
   "outputs": [],
   "source": [
    "import pandas as pd\n",
    "import numpy as np\n",
    "import seaborn as sns\n",
    "import matplotlib.pyplot as plt\n",
    "from sklearn.decomposition import PCA\n",
    "from sklearn.preprocessing import StandardScaler\n",
    "from mlxtend.feature_selection import SequentialFeatureSelector\n",
    "from sklearn.linear_model import LinearRegression\n",
    "import statsmodels.api as sm\n",
    "from sklearn.model_selection import train_test_split, KFold, cross_val_score, cross_val_predict, StratifiedKFold\n",
    "from sklearn.metrics import accuracy_score, classification_report, confusion_matrix, precision_score, recall_score, f1_score, roc_auc_score, confusion_matrix, roc_curve,auc\n",
    "from sklearn.linear_model import LogisticRegression\n",
    "from sklearn.svm import SVC\n",
    "from sklearn.neighbors import KNeighborsClassifier\n",
    "from sklearn.tree import DecisionTreeClassifier\n",
    "from sklearn.ensemble import RandomForestClassifier\n",
    "from sklearn.naive_bayes import GaussianNB\n",
    "from sklearn.preprocessing import label_binarize\n",
    "from sklearn.preprocessing import MinMaxScaler\n",
    "from sklearn.cluster import KMeans\n",
    "from sklearn.metrics import silhouette_score\n",
    "import scipy.cluster.hierarchy as sch\n",
    "from scipy.spatial.distance import pdist, squareform\n",
    "from sklearn.cluster import AgglomerativeClustering\n",
    "from scipy.cluster.hierarchy import fcluster"
   ]
  },
  {
   "cell_type": "code",
   "execution_count": 344,
   "metadata": {},
   "outputs": [],
   "source": [
    "DATA_DIR = f'Sleep_dataset.csv'\n",
    "DF=pd.read_csv(DATA_DIR)\n",
    "DF['Sleep Disorder'] = DF['Sleep Disorder'].replace(np.nan, 'None')"
   ]
  },
  {
   "cell_type": "markdown",
   "metadata": {},
   "source": [
    "**Dataset Columns:**\n",
    "1.   **Person ID**: An identifier for each individual.\n",
    "2.   **Gender (Male/Female)**: The gender of the person.\n",
    "3.   **Age**: The age of the person in years.\n",
    "Occupation: The occupation or profession of the person.\n",
    "4.   **Sleep Duration (hours)**: The number of hours the person sleeps per day.\n",
    "5.   **Quality of Sleep (scale: 1-10)**: A subjective rating of the quality of sleep, ranging from 1 to 10.\n",
    "6.   **Physical Activity Level (minutes/day)**: The number of minutes the person engages in physical activity daily.\n",
    "7.   **Stress Level (scale: 1-10)**: A subjective rating of the stress level experienced by the person, ranging from 1 to 10.\n",
    "8.   **BMI Category**: The BMI category of the person (e.g., Underweight, Normal, Overweight).\n",
    "9.   **Blood Pressure (systolic/diastolic)**: The blood pressure measurement of the person, indicated as systolic pressure over diastolic pressure.\n",
    "10.   **Heart Rate (bpm)**: The resting heart rate of the person in beats per minute.\n",
    "11.  **Daily Steps**: The number of steps the person takes per day.\n",
    "12.   **Sleep Disorder**: The presence or absence of a sleep disorder in the person (None, Insomnia, Sleep Apnea).\n"
   ]
  },
  {
   "cell_type": "code",
   "execution_count": 345,
   "metadata": {},
   "outputs": [
    {
     "name": "stdout",
     "output_type": "stream",
     "text": [
      "The dimention of data is : (374, 13)\n"
     ]
    }
   ],
   "source": [
    "DF.head() #take a brief look at the data\n",
    "print(f'The dimention of data is : {DF.shape}')"
   ]
  },
  {
   "cell_type": "code",
   "execution_count": 346,
   "metadata": {},
   "outputs": [
    {
     "data": {
      "text/plain": [
       "Person ID                  374\n",
       "Gender                       2\n",
       "Age                         31\n",
       "Occupation                  11\n",
       "Sleep Duration              27\n",
       "Quality of Sleep             6\n",
       "Physical Activity Level     16\n",
       "Stress Level                 6\n",
       "BMI Category                 4\n",
       "Blood Pressure              25\n",
       "Heart Rate                  19\n",
       "Daily Steps                 20\n",
       "Sleep Disorder               3\n",
       "dtype: int64"
      ]
     },
     "execution_count": 346,
     "metadata": {},
     "output_type": "execute_result"
    }
   ],
   "source": [
    "#taking a look at the data\n",
    "DF.describe()\n",
    "DF.nunique()"
   ]
  },
  {
   "cell_type": "markdown",
   "metadata": {},
   "source": [
    "## Data Pre-Processing"
   ]
  },
  {
   "cell_type": "code",
   "execution_count": 347,
   "metadata": {},
   "outputs": [],
   "source": [
    "new_df = DF.copy(deep=True) #Copy done in the next cell\n",
    "classify_df = DF.copy(deep=True)"
   ]
  },
  {
   "cell_type": "markdown",
   "metadata": {},
   "source": [
    "### Converting Categorical to Numerical"
   ]
  },
  {
   "cell_type": "code",
   "execution_count": 348,
   "metadata": {},
   "outputs": [
    {
     "name": "stdout",
     "output_type": "stream",
     "text": [
      "['Software Engineer' 'Doctor' 'Sales Representative' 'Teacher' 'Nurse'\n",
      " 'Engineer' 'Accountant' 'Scientist' 'Lawyer' 'Salesperson' 'Manager']\n",
      "['Male' 'Female']\n",
      "['None' 'Sleep Apnea' 'Insomnia']\n",
      "['Overweight' 'Normal' 'Obese' 'Normal Weight']\n"
     ]
    }
   ],
   "source": [
    "#Convert String Columns\n",
    "print(DF['Occupation'].unique())\n",
    "print(DF['Gender'].unique())\n",
    "print(DF['Sleep Disorder'].unique())\n",
    "print(DF['BMI Category'].unique())\n",
    "\n",
    "occupation_mapping = {\n",
    "    'Software Engineer':0,\n",
    "    'Doctor':1,\n",
    "    'Sales Representative':2,\n",
    "    'Teacher':3,\n",
    "    'Nurse':4,\n",
    "    'Engineer':5,\n",
    "    'Accountant':6,\n",
    "    'Scientist':7,\n",
    "    'Lawyer':8,\n",
    "    'Salesperson':9,\n",
    "    'Manager':10\n",
    "}\n",
    "\n",
    "gender_mapping = {'Male': 0, 'Female': 1}\n",
    "sleep_disorder_mapping = {'None': 0, 'Insomnia': 1, 'Sleep Apnea': 2}\n",
    "bmi_category_mapping = {'Overweight':0, 'Normal':2, 'Obese':3, 'Normal Weight':4}\n",
    "\n",
    "#blood pressure\n",
    "def extract_systolic(bp_str):\n",
    "    try:\n",
    "        return int(bp_str.split('/')[0])\n",
    "    except (AttributeError, ValueError, IndexError):\n",
    "        return np.nan  \n",
    "\n",
    "def categorize(score):\n",
    "  if score < 120:\n",
    "    return 0 #normal\n",
    "  elif score <= 139:\n",
    "    return 1 #Prehypertension\n",
    "  elif score <= 159:\n",
    "    return 2 #Stage 1 Hypertension\n",
    "  else:\n",
    "    return 3 #Stage 2 Hypertension"
   ]
  },
  {
   "cell_type": "code",
   "execution_count": 349,
   "metadata": {},
   "outputs": [],
   "source": [
    "classify_df['Occupation'] = classify_df['Occupation'].map(occupation_mapping)\n",
    "classify_df['Gender'] = classify_df['Gender'].map(gender_mapping)\n",
    "classify_df['Sleep Disorder'] = classify_df['Sleep Disorder'].map(sleep_disorder_mapping)\n",
    "classify_df['BMI Category'] = classify_df['BMI Category'].map(bmi_category_mapping)\n",
    "\n",
    "\n",
    "classify_df['Systolic Blood Pressure'] = classify_df['Blood Pressure'].apply(extract_systolic)\n",
    "classify_df = classify_df.drop('Blood Pressure', axis=1)\n",
    "\n",
    "# Example\n",
    "classify_df['Systolic Blood Pressure'] = classify_df['Systolic Blood Pressure'].apply(lambda x: categorize(x))\n",
    "\n",
    "# PCA Dataset classify\n",
    "pca_df = classify_df.copy(deep=True)\n",
    "\n",
    "#isolate target variable for pca dataset\n",
    "y = pca_df['Sleep Disorder']\n",
    "\n",
    "# Drop 'Sleep Disorder' from the dataset\n",
    "pca_df.drop(columns=['Sleep Disorder'],inplace=True)\n",
    "\n",
    "Train_df = pca_df.copy(deep=True)\n",
    "\n"
   ]
  },
  {
   "cell_type": "markdown",
   "metadata": {},
   "source": [
    "## Dimesion Reduction and PCA"
   ]
  },
  {
   "cell_type": "markdown",
   "metadata": {},
   "source": [
    "### Principal Component Analysis"
   ]
  },
  {
   "cell_type": "code",
   "execution_count": 350,
   "metadata": {},
   "outputs": [
    {
     "name": "stdout",
     "output_type": "stream",
     "text": [
      "Explained Variance Ratio per Principal Component:\n",
      "PC1: 34.49%\n",
      "PC2: 23.28%\n",
      "PC3: 14.74%\n",
      "PC4: 9.22%\n",
      "PC5: 7.09%\n",
      "PC6: 5.30%\n",
      "PC7: 2.58%\n",
      "PC8: 1.43%\n",
      "PC9: 0.88%\n",
      "PC10: 0.58%\n",
      "PC11: 0.37%\n",
      "PC12: 0.04%\n",
      "Total Variance Explained by First 4 PCs: 81.73%\n",
      "Cumulative Variance Ratio: [0.34488263 0.57769901 0.72509987 0.81730261 0.88821029 0.94116029\n",
      " 0.96697315 0.9812808  0.99012643 0.99590541 0.9995667  1.        ]\n",
      "Principal Component Scores:\n",
      "         PC1       PC2       PC3       PC4       PC5       PC6       PC7  \\\n",
      "0 -3.456979 -0.243266 -1.306650 -1.402583 -0.345054 -0.624812 -1.947520   \n",
      "1 -3.611860  0.129115  1.808284 -0.800921  0.816866 -0.119979  0.412609   \n",
      "2 -3.608312  0.132018  1.806822 -0.800439  0.815980 -0.119349  0.415394   \n",
      "3 -5.326475  0.518563 -1.768679 -1.752901 -2.666919  1.214354 -0.235160   \n",
      "4 -5.322927  0.521465 -1.770140 -1.752419 -2.667804  1.214984 -0.232375   \n",
      "\n",
      "        PC8       PC9      PC10      PC11      PC12  \n",
      "0 -0.308554 -0.270871  0.667993 -0.001576 -0.072407  \n",
      "1  0.103510  0.313464  0.907920 -0.373012  0.008508  \n",
      "2  0.100014  0.312427  0.907162 -0.374816  0.002498  \n",
      "3  1.049204 -0.286105 -0.290298 -0.507149  0.047367  \n",
      "4  1.045709 -0.287143 -0.291057 -0.508953  0.041357  \n"
     ]
    }
   ],
   "source": [
    "pca_df = (pca_df - pca_df.mean(axis=0)) / pca_df.std(axis=0) # Standardize\n",
    "\n",
    "# Perform PCA\n",
    "pca = PCA()\n",
    "principal_components = pca.fit_transform(pca_df)\n",
    "\n",
    "# Convert to DataFrame\n",
    "pca_scores = pd.DataFrame(principal_components, columns=[f'PC{i+1}' for i in range(principal_components.shape[1])])\n",
    "\n",
    "# Variance\n",
    "explained_variance = pca.explained_variance_ratio_\n",
    "cumulative_variance = np.cumsum(explained_variance)\n",
    "\n",
    "# Results\n",
    "explained_variance = pca.explained_variance_ratio_\n",
    "print(\"Explained Variance Ratio per Principal Component:\")\n",
    "for i, variance in enumerate(explained_variance):\n",
    "    print(f\"PC{i+1}: {variance:.2%}\")\n",
    "print(f\"Total Variance Explained by First 4 PCs: {sum(explained_variance[:4]):.2%}\")\n",
    "print(\"Cumulative Variance Ratio:\", cumulative_variance)\n",
    "print(\"Principal Component Scores:\\n\", pca_scores.head())"
   ]
  },
  {
   "cell_type": "code",
   "execution_count": 351,
   "metadata": {},
   "outputs": [
    {
     "data": {
      "image/png": "[encoded data removed]",
      "text/plain": [
       "<Figure size 800x500 with 1 Axes>"
      ]
     },
     "metadata": {},
     "output_type": "display_data"
    }
   ],
   "source": [
    "# Get the loadings (eigenvectors)\n",
    "loadings = pca.components_.T\n",
    "\n",
    "# Scree Plot\n",
    "plt.figure(figsize=(8, 5))\n",
    "plt.bar(range(1, len(explained_variance) + 1), explained_variance, alpha=0.6, color=\"b\", label=\"Individual Variance\")\n",
    "plt.plot(range(1, len(explained_variance) + 1), cumulative_variance, marker=\"o\", linestyle=\"--\", color=\"r\", label=\"Cumulative Variance\")\n",
    "\n",
    "plt.xlabel(\"Principal Component\")\n",
    "plt.ylabel(\"Variance Explained\")\n",
    "plt.title(\"Scree Plot\")\n",
    "plt.xticks(range(1, len(explained_variance) + 1))\n",
    "plt.legend()\n",
    "plt.grid()\n",
    "\n",
    "plt.show()"
   ]
  },
  {
   "cell_type": "code",
   "execution_count": 352,
   "metadata": {},
   "outputs": [
    {
     "name": "stdout",
     "output_type": "stream",
     "text": [
      "(374, 6)\n"
     ]
    }
   ],
   "source": [
    "pca_df.columns\n",
    "\n",
    "#based on results, remove last 6 components. we can still keep 95% of variance with the first 6 components. \n",
    "pca_df = pca_scores.iloc[:,:-6]\n",
    "print(pca_df.shape)\n"
   ]
  },
  {
   "cell_type": "markdown",
   "metadata": {},
   "source": [
    "### Ordinary Least Squares Regression (OLS)"
   ]
  },
  {
   "cell_type": "code",
   "execution_count": 353,
   "metadata": {},
   "outputs": [
    {
     "data": {
      "text/html": [
       "<div>\n",
       "<style scoped>\n",
       "    .dataframe tbody tr th:only-of-type {\n",
       "        vertical-align: middle;\n",
       "    }\n",
       "\n",
       "    .dataframe tbody tr th {\n",
       "        vertical-align: top;\n",
       "    }\n",
       "\n",
       "    .dataframe thead th {\n",
       "        text-align: right;\n",
       "    }\n",
       "</style>\n",
       "<table border=\"1\" class=\"dataframe\">\n",
       "  <thead>\n",
       "    <tr style=\"text-align: right;\">\n",
       "      <th></th>\n",
       "      <th>PC1</th>\n",
       "      <th>PC2</th>\n",
       "      <th>PC3</th>\n",
       "      <th>PC4</th>\n",
       "      <th>PC5</th>\n",
       "      <th>PC6</th>\n",
       "    </tr>\n",
       "  </thead>\n",
       "  <tbody>\n",
       "    <tr>\n",
       "      <th>0</th>\n",
       "      <td>-3.456979</td>\n",
       "      <td>-0.243266</td>\n",
       "      <td>-1.306650</td>\n",
       "      <td>-1.402583</td>\n",
       "      <td>-0.345054</td>\n",
       "      <td>-0.624812</td>\n",
       "    </tr>\n",
       "    <tr>\n",
       "      <th>1</th>\n",
       "      <td>-3.611860</td>\n",
       "      <td>0.129115</td>\n",
       "      <td>1.808284</td>\n",
       "      <td>-0.800921</td>\n",
       "      <td>0.816866</td>\n",
       "      <td>-0.119979</td>\n",
       "    </tr>\n",
       "    <tr>\n",
       "      <th>2</th>\n",
       "      <td>-3.608312</td>\n",
       "      <td>0.132018</td>\n",
       "      <td>1.806822</td>\n",
       "      <td>-0.800439</td>\n",
       "      <td>0.815980</td>\n",
       "      <td>-0.119349</td>\n",
       "    </tr>\n",
       "    <tr>\n",
       "      <th>3</th>\n",
       "      <td>-5.326475</td>\n",
       "      <td>0.518563</td>\n",
       "      <td>-1.768679</td>\n",
       "      <td>-1.752901</td>\n",
       "      <td>-2.666919</td>\n",
       "      <td>1.214354</td>\n",
       "    </tr>\n",
       "    <tr>\n",
       "      <th>4</th>\n",
       "      <td>-5.322927</td>\n",
       "      <td>0.521465</td>\n",
       "      <td>-1.770140</td>\n",
       "      <td>-1.752419</td>\n",
       "      <td>-2.667804</td>\n",
       "      <td>1.214984</td>\n",
       "    </tr>\n",
       "    <tr>\n",
       "      <th>...</th>\n",
       "      <td>...</td>\n",
       "      <td>...</td>\n",
       "      <td>...</td>\n",
       "      <td>...</td>\n",
       "      <td>...</td>\n",
       "      <td>...</td>\n",
       "    </tr>\n",
       "    <tr>\n",
       "      <th>369</th>\n",
       "      <td>3.732473</td>\n",
       "      <td>1.626499</td>\n",
       "      <td>0.098830</td>\n",
       "      <td>-0.847168</td>\n",
       "      <td>-0.594956</td>\n",
       "      <td>-0.420968</td>\n",
       "    </tr>\n",
       "    <tr>\n",
       "      <th>370</th>\n",
       "      <td>3.689964</td>\n",
       "      <td>1.663143</td>\n",
       "      <td>0.072909</td>\n",
       "      <td>-0.832484</td>\n",
       "      <td>-0.554221</td>\n",
       "      <td>-0.414048</td>\n",
       "    </tr>\n",
       "    <tr>\n",
       "      <th>371</th>\n",
       "      <td>3.739569</td>\n",
       "      <td>1.632303</td>\n",
       "      <td>0.095907</td>\n",
       "      <td>-0.846204</td>\n",
       "      <td>-0.596727</td>\n",
       "      <td>-0.419709</td>\n",
       "    </tr>\n",
       "    <tr>\n",
       "      <th>372</th>\n",
       "      <td>3.743116</td>\n",
       "      <td>1.635206</td>\n",
       "      <td>0.094445</td>\n",
       "      <td>-0.845722</td>\n",
       "      <td>-0.597613</td>\n",
       "      <td>-0.419079</td>\n",
       "    </tr>\n",
       "    <tr>\n",
       "      <th>373</th>\n",
       "      <td>3.746664</td>\n",
       "      <td>1.638108</td>\n",
       "      <td>0.092984</td>\n",
       "      <td>-0.845239</td>\n",
       "      <td>-0.598499</td>\n",
       "      <td>-0.418450</td>\n",
       "    </tr>\n",
       "  </tbody>\n",
       "</table>\n",
       "<p>374 rows × 6 columns</p>\n",
       "</div>"
      ],
      "text/plain": [
       "          PC1       PC2       PC3       PC4       PC5       PC6\n",
       "0   -3.456979 -0.243266 -1.306650 -1.402583 -0.345054 -0.624812\n",
       "1   -3.611860  0.129115  1.808284 -0.800921  0.816866 -0.119979\n",
       "2   -3.608312  0.132018  1.806822 -0.800439  0.815980 -0.119349\n",
       "3   -5.326475  0.518563 -1.768679 -1.752901 -2.666919  1.214354\n",
       "4   -5.322927  0.521465 -1.770140 -1.752419 -2.667804  1.214984\n",
       "..        ...       ...       ...       ...       ...       ...\n",
       "369  3.732473  1.626499  0.098830 -0.847168 -0.594956 -0.420968\n",
       "370  3.689964  1.663143  0.072909 -0.832484 -0.554221 -0.414048\n",
       "371  3.739569  1.632303  0.095907 -0.846204 -0.596727 -0.419709\n",
       "372  3.743116  1.635206  0.094445 -0.845722 -0.597613 -0.419079\n",
       "373  3.746664  1.638108  0.092984 -0.845239 -0.598499 -0.418450\n",
       "\n",
       "[374 rows x 6 columns]"
      ]
     },
     "metadata": {},
     "output_type": "display_data"
    },
    {
     "name": "stdout",
     "output_type": "stream",
     "text": [
      "0      0\n",
      "1      0\n",
      "2      0\n",
      "3      2\n",
      "4      2\n",
      "      ..\n",
      "369    2\n",
      "370    2\n",
      "371    2\n",
      "372    2\n",
      "373    2\n",
      "Name: Sleep Disorder, Length: 374, dtype: int64\n"
     ]
    }
   ],
   "source": [
    "display(pca_df)\n",
    "#x is defined previously when we seperated the target variable before we applied PCA\n",
    "X_array = pca_df.to_numpy() \n",
    "scaler = StandardScaler()\n",
    "X_scaled = scaler.fit_transform(X_array)\n",
    "X = pd.DataFrame(X_scaled, columns=pca_df.columns)\n",
    "print(y)"
   ]
  },
  {
   "cell_type": "code",
   "execution_count": 354,
   "metadata": {},
   "outputs": [
    {
     "name": "stdout",
     "output_type": "stream",
     "text": [
      "\n",
      "Selected Features (Backward Stepwise Selection):\n",
      "['const', 'PC1', 'PC2', 'PC3', 'PC4', 'PC5', 'PC6']\n",
      "\n",
      "Final Model Summary:\n",
      "                            OLS Regression Results                            \n",
      "==============================================================================\n",
      "Dep. Variable:         Sleep Disorder   R-squared:                       0.630\n",
      "Model:                            OLS   Adj. R-squared:                  0.624\n",
      "Method:                 Least Squares   F-statistic:                     104.0\n",
      "Date:                Sat, 15 Mar 2025   Prob (F-statistic):           4.86e-76\n",
      "Time:                        00:07:52   Log-Likelihood:                -264.98\n",
      "No. Observations:                 374   AIC:                             544.0\n",
      "Df Residuals:                     367   BIC:                             571.4\n",
      "Df Model:                           6                                         \n",
      "Covariance Type:            nonrobust                                         \n",
      "==============================================================================\n",
      "                 coef    std err          t      P>|t|      [0.025      0.975]\n",
      "------------------------------------------------------------------------------\n",
      "const          0.6230      0.026     24.286      0.000       0.573       0.673\n",
      "PC1            0.0945      0.026      3.684      0.000       0.044       0.145\n",
      "PC2            0.6043      0.026     23.559      0.000       0.554       0.655\n",
      "PC3           -0.0848      0.026     -3.304      0.001      -0.135      -0.034\n",
      "PC4           -0.1032      0.026     -4.022      0.000      -0.154      -0.053\n",
      "PC5           -0.0757      0.026     -2.951      0.003      -0.126      -0.025\n",
      "PC6            0.1131      0.026      4.407      0.000       0.063       0.164\n",
      "==============================================================================\n",
      "Omnibus:                       46.351   Durbin-Watson:                   1.022\n",
      "Prob(Omnibus):                  0.000   Jarque-Bera (JB):              218.176\n",
      "Skew:                           0.374   Prob(JB):                     4.20e-48\n",
      "Kurtosis:                       6.666   Cond. No.                         1.00\n",
      "==============================================================================\n",
      "\n",
      "Notes:\n",
      "[1] Standard Errors assume that the covariance matrix of the errors is correctly specified.\n"
     ]
    }
   ],
   "source": [
    "X = sm.add_constant(X)\n",
    "\n",
    "# Backward Stepwise Selection Function\n",
    "def backward_stepwise_selection(X, y, significance_level=0.05):\n",
    "    features = list(X.columns)  # Get feature names\n",
    "    \n",
    "    while len(features) > 1:  \n",
    "        X_train = X[features] \n",
    "        model = sm.OLS(y, X_train).fit()  # Fit OLS model\n",
    "        \n",
    "        p_values = model.pvalues.iloc[1:]  # Exclude the intercept\n",
    "        max_p_value = p_values.max()  # Find highest p-value\n",
    "        \n",
    "        if max_p_value > significance_level:\n",
    "            # Remove the feature with the highest p-value\n",
    "            excluded_feature = p_values.idxmax()\n",
    "            features.remove(excluded_feature)\n",
    "            print(f\"Removed feature: {excluded_feature} (p-value: {max_p_value:.4f})\")\n",
    "        else:\n",
    "            break  \n",
    "    \n",
    "    # Return reduced feature set and final model\n",
    "    return X[features], model\n",
    "\n",
    "# Run Backward Stepwise Selection\n",
    "X_selected, final_model = backward_stepwise_selection(X, y)\n",
    "\n",
    "print(\"\\nSelected Features (Backward Stepwise Selection):\")\n",
    "print(X_selected.columns.tolist())\n",
    "\n",
    "# Print Final Model Summary\n",
    "print(\"\\nFinal Model Summary:\")\n",
    "print(final_model.summary())\n"
   ]
  },
  {
   "cell_type": "markdown",
   "metadata": {},
   "source": [
    "## Classification "
   ]
  },
  {
   "cell_type": "code",
   "execution_count": 355,
   "metadata": {},
   "outputs": [
    {
     "data": {
      "image/png": "[encoded data removed]",
      "text/plain": [
       "<Figure size 1000x600 with 1 Axes>"
      ]
     },
     "metadata": {},
     "output_type": "display_data"
    }
   ],
   "source": [
    "# Split to train_test\n",
    "X_train, X_test, y_train, y_test = train_test_split(pca_df, y, test_size=0.2, random_state=42)\n",
    "\n",
    "# Standardized the train and test data\n",
    "scaler = StandardScaler()\n",
    "X_train_scaled = scaler.fit_transform(X_train)\n",
    "X_test_scaled = scaler.transform(X_test)\n",
    "\n",
    "#visual\n",
    "counts_train = y_train.value_counts()\n",
    "counts_test = y_test.value_counts()\n",
    "\n",
    "plt.figure(figsize=(10, 6))\n",
    "width = 0.35\n",
    "\n",
    "# Plotting train data\n",
    "plt.bar(np.arange(len(counts_train)) - width/2, counts_train.values, width, label='Train')\n",
    "\n",
    "# Plotting test data\n",
    "plt.bar(np.arange(len(counts_test)) + width/2, counts_test.values, width, label='Test')\n",
    "\n",
    "plt.ylabel(\"Count\")\n",
    "plt.title(\"Distribution (Train vs. Test)\")\n",
    "plt.xticks(np.arange(len(counts_train)))\n",
    "plt.legend()\n",
    "\n",
    "# Add labels to the bars\n",
    "for i, count in enumerate(counts_train.values):\n",
    "    plt.text(i - width/2, count + 1, str(count), ha='center', va='bottom')\n",
    "for i, count in enumerate(counts_test.values):\n",
    "    plt.text(i + width/2, count + 1, str(count), ha='center', va='bottom')\n",
    "\n",
    "plt.show()"
   ]
  },
  {
   "cell_type": "markdown",
   "metadata": {},
   "source": [
    "### Logistic Regression"
   ]
  },
  {
   "cell_type": "code",
   "execution_count": 356,
   "metadata": {},
   "outputs": [
    {
     "name": "stdout",
     "output_type": "stream",
     "text": [
      "Test Accuracy: 0.8800\n",
      "Cross-Validation Accuracy (Mean ± Std): 0.8763 ± 0.0225\n",
      "\n",
      "Classification Report:\n",
      "               precision    recall  f1-score   support\n",
      "\n",
      "           0       0.89      0.98      0.93        43\n",
      "           1       0.87      0.81      0.84        16\n",
      "           2       0.85      0.69      0.76        16\n",
      "\n",
      "    accuracy                           0.88        75\n",
      "   macro avg       0.87      0.83      0.84        75\n",
      "weighted avg       0.88      0.88      0.88        75\n",
      "\n",
      "Confusion Matrix:\n",
      " [[42  1  0]\n",
      " [ 1 13  2]\n",
      " [ 4  1 11]]\n"
     ]
    },
    {
     "name": "stderr",
     "output_type": "stream",
     "text": [
      "c:\\Users\\Jason\\AppData\\Local\\Programs\\Python\\Python312\\Lib\\site-packages\\sklearn\\linear_model\\_logistic.py:1247: FutureWarning: 'multi_class' was deprecated in version 1.5 and will be removed in 1.7. From then on, it will always use 'multinomial'. Leave it to its default value to avoid this warning.\n",
      "  warnings.warn(\n",
      "c:\\Users\\Jason\\AppData\\Local\\Programs\\Python\\Python312\\Lib\\site-packages\\sklearn\\linear_model\\_logistic.py:1247: FutureWarning: 'multi_class' was deprecated in version 1.5 and will be removed in 1.7. From then on, it will always use 'multinomial'. Leave it to its default value to avoid this warning.\n",
      "  warnings.warn(\n",
      "c:\\Users\\Jason\\AppData\\Local\\Programs\\Python\\Python312\\Lib\\site-packages\\sklearn\\linear_model\\_logistic.py:1247: FutureWarning: 'multi_class' was deprecated in version 1.5 and will be removed in 1.7. From then on, it will always use 'multinomial'. Leave it to its default value to avoid this warning.\n",
      "  warnings.warn(\n",
      "c:\\Users\\Jason\\AppData\\Local\\Programs\\Python\\Python312\\Lib\\site-packages\\sklearn\\linear_model\\_logistic.py:1247: FutureWarning: 'multi_class' was deprecated in version 1.5 and will be removed in 1.7. From then on, it will always use 'multinomial'. Leave it to its default value to avoid this warning.\n",
      "  warnings.warn(\n",
      "c:\\Users\\Jason\\AppData\\Local\\Programs\\Python\\Python312\\Lib\\site-packages\\sklearn\\linear_model\\_logistic.py:1247: FutureWarning: 'multi_class' was deprecated in version 1.5 and will be removed in 1.7. From then on, it will always use 'multinomial'. Leave it to its default value to avoid this warning.\n",
      "  warnings.warn(\n",
      "c:\\Users\\Jason\\AppData\\Local\\Programs\\Python\\Python312\\Lib\\site-packages\\sklearn\\linear_model\\_logistic.py:1247: FutureWarning: 'multi_class' was deprecated in version 1.5 and will be removed in 1.7. From then on, it will always use 'multinomial'. Leave it to its default value to avoid this warning.\n",
      "  warnings.warn(\n"
     ]
    }
   ],
   "source": [
    "# Train your data using multinomial log regression\n",
    "model = LogisticRegression(multi_class='multinomial', solver='lbfgs', max_iter=1000)\n",
    "model.fit(X_train_scaled, y_train)\n",
    "\n",
    "# 🔹 **Cross-Validation (5-fold)**\n",
    "cv = KFold(n_splits=5, shuffle=True, random_state=42)  # Ensures balanced splits\n",
    "cv_scores = cross_val_score(model, X_train_scaled, y_train, cv=cv, scoring='accuracy')\n",
    "\n",
    "#Evaluate your model\n",
    "y_pred = model.predict(X_test_scaled)\n",
    "accuracy = accuracy_score(y_test, y_pred)\n",
    "\n",
    "# Evaluate performance\n",
    "accuracy = accuracy_score(y_test, y_pred)\n",
    "print(f\"Test Accuracy: {accuracy:.4f}\")\n",
    "print(f\"Cross-Validation Accuracy (Mean ± Std): {cv_scores.mean():.4f} ± {cv_scores.std():.4f}\")\n",
    "print(\"\\nClassification Report:\\n\", classification_report(y_test, y_pred))\n",
    "print(\"Confusion Matrix:\\n\", confusion_matrix(y_test, y_pred))\n"
   ]
  },
  {
   "cell_type": "markdown",
   "metadata": {},
   "source": [
    "### Random Forest"
   ]
  },
  {
   "cell_type": "code",
   "execution_count": 357,
   "metadata": {},
   "outputs": [
    {
     "name": "stdout",
     "output_type": "stream",
     "text": [
      "Random Forest Test Accuracy: 0.8800\n",
      "Cross-Validation Accuracy (Mean ± Std): 0.8827 ± 0.0361\n",
      "\n",
      "Classification Report:\n",
      "               precision    recall  f1-score   support\n",
      "\n",
      "           0       0.91      0.98      0.94        43\n",
      "           1       0.81      0.81      0.81        16\n",
      "           2       0.85      0.69      0.76        16\n",
      "\n",
      "    accuracy                           0.88        75\n",
      "   macro avg       0.86      0.83      0.84        75\n",
      "weighted avg       0.88      0.88      0.88        75\n",
      "\n",
      "Confusion Matrix:\n",
      " [[42  1  0]\n",
      " [ 1 13  2]\n",
      " [ 3  2 11]]\n"
     ]
    }
   ],
   "source": [
    "# Random Forest Model\n",
    "rf_model = RandomForestClassifier(n_estimators=100, random_state=42)\n",
    "\n",
    "#Cross Validation\n",
    "cv = KFold(n_splits=5, shuffle=True, random_state=42)  # Ensures balanced splits\n",
    "cv_scores = cross_val_score(rf_model, X_train_scaled, y_train, cv=cv, scoring='accuracy')\n",
    "\n",
    "# Train\n",
    "rf_model.fit(X_train_scaled, y_train)\n",
    "\n",
    "# Predict\n",
    "y_pred_rf = rf_model.predict(X_test_scaled)\n",
    "\n",
    "# Evaluate\n",
    "accuracy_rf = accuracy_score(y_test, y_pred_rf)\n",
    "\n",
    "print(f\"Random Forest Test Accuracy: {accuracy_rf:.4f}\")\n",
    "print(f\"Cross-Validation Accuracy (Mean ± Std): {cv_scores.mean():.4f} ± {cv_scores.std():.4f}\")\n",
    "print(\"\\nClassification Report:\\n\", classification_report(y_test, y_pred_rf))\n",
    "print(\"Confusion Matrix:\\n\", confusion_matrix(y_test, y_pred_rf))"
   ]
  },
  {
   "cell_type": "markdown",
   "metadata": {},
   "source": [
    "### State Vector Machine"
   ]
  },
  {
   "cell_type": "code",
   "execution_count": 358,
   "metadata": {},
   "outputs": [
    {
     "name": "stdout",
     "output_type": "stream",
     "text": [
      "SVM Test Accuracy: 0.8800\n",
      "Cross-Validation Accuracy (Mean ± Std): 0.8795 ± 0.0198\n",
      "\n",
      "Classification Report:\n",
      "               precision    recall  f1-score   support\n",
      "\n",
      "           0       0.89      0.98      0.93        43\n",
      "           1       0.87      0.81      0.84        16\n",
      "           2       0.85      0.69      0.76        16\n",
      "\n",
      "    accuracy                           0.88        75\n",
      "   macro avg       0.87      0.83      0.84        75\n",
      "weighted avg       0.88      0.88      0.88        75\n",
      "\n",
      "Confusion Matrix:\n",
      " [[42  1  0]\n",
      " [ 1 13  2]\n",
      " [ 4  1 11]]\n"
     ]
    }
   ],
   "source": [
    "# Initialize SVM Model\n",
    "svm_model = SVC(kernel='linear', C=1)  # Linear kernel, C=1 (Can be tuned)\n",
    "\n",
    "cv = KFold(n_splits=5, shuffle=True, random_state=42)  # Ensures balanced splits\n",
    "cv_scores = cross_val_score(svm_model, X_train_scaled, y_train, cv=cv, scoring='accuracy')\n",
    "\n",
    "# Train \n",
    "svm_model.fit(X_train_scaled, y_train)\n",
    "\n",
    "# Predict \n",
    "y_pred_svm = svm_model.predict(X_test_scaled)\n",
    "\n",
    "# Evaluate\n",
    "accuracy_svm = accuracy_score(y_test, y_pred_svm)\n",
    "\n",
    "print(f\"SVM Test Accuracy: {accuracy_svm:.4f}\")\n",
    "print(f\"Cross-Validation Accuracy (Mean ± Std): {cv_scores.mean():.4f} ± {cv_scores.std():.4f}\")\n",
    "print(\"\\nClassification Report:\\n\", classification_report(y_test, y_pred_svm))\n",
    "print(\"Confusion Matrix:\\n\", confusion_matrix(y_test, y_pred_svm))"
   ]
  },
  {
   "cell_type": "markdown",
   "metadata": {},
   "source": [
    "### K-Nearest Neighbor"
   ]
  },
  {
   "cell_type": "code",
   "execution_count": 359,
   "metadata": {},
   "outputs": [
    {
     "name": "stdout",
     "output_type": "stream",
     "text": [
      "KNN Test Accuracy: 0.8800\n",
      "Cross-Validation Accuracy (Mean ± Std): 0.8729 ± 0.0172\n",
      "\n",
      "Classification Report:\n",
      "               precision    recall  f1-score   support\n",
      "\n",
      "           0       0.89      0.98      0.93        43\n",
      "           1       0.82      0.88      0.85        16\n",
      "           2       0.91      0.62      0.74        16\n",
      "\n",
      "    accuracy                           0.88        75\n",
      "   macro avg       0.88      0.83      0.84        75\n",
      "weighted avg       0.88      0.88      0.87        75\n",
      "\n",
      "Confusion Matrix:\n",
      " [[42  1  0]\n",
      " [ 1 14  1]\n",
      " [ 4  2 10]]\n"
     ]
    }
   ],
   "source": [
    "# Initialize KNN Model\n",
    "knn_model = KNeighborsClassifier(n_neighbors=5)  # You can adjust the number of neighbors\n",
    "\n",
    "#CV\n",
    "cv = KFold(n_splits=5, shuffle=True, random_state=42)  # Ensures balanced splits\n",
    "cv_scores = cross_val_score(knn_model, X_train_scaled, y_train, cv=cv, scoring='accuracy')\n",
    "\n",
    "# Train\n",
    "knn_model.fit(X_train_scaled, y_train)\n",
    "\n",
    "# Predict\n",
    "y_pred_knn = knn_model.predict(X_test_scaled)\n",
    "\n",
    "# Evaluate\n",
    "accuracy_knn = accuracy_score(y_test, y_pred_knn)\n",
    "\n",
    "print(f\"KNN Test Accuracy: {accuracy_knn:.4f}\")\n",
    "print(f\"Cross-Validation Accuracy (Mean ± Std): {cv_scores.mean():.4f} ± {cv_scores.std():.4f}\")\n",
    "print(\"\\nClassification Report:\\n\", classification_report(y_test, y_pred_knn))\n",
    "print(\"Confusion Matrix:\\n\", confusion_matrix(y_test, y_pred_knn))"
   ]
  },
  {
   "cell_type": "markdown",
   "metadata": {},
   "source": [
    "# Recommendation System"
   ]
  },
  {
   "cell_type": "markdown",
   "metadata": {},
   "source": [
    "## Data Pre-processing"
   ]
  },
  {
   "cell_type": "code",
   "execution_count": 360,
   "metadata": {},
   "outputs": [
    {
     "name": "stdout",
     "output_type": "stream",
     "text": [
      "X_train_tensor shape: torch.Size([299, 6])\n",
      "X_test_tensor shape: torch.Size([75, 6])\n",
      "y_train_tensor shape: torch.Size([299])\n",
      "y_test_tensor shape: torch.Size([75])\n"
     ]
    }
   ],
   "source": [
    "import torch\n",
    "\n",
    "# Define device (CPU or GPU)\n",
    "device = torch.device(\"cuda\" if torch.cuda.is_available() else \"cpu\")\n",
    "\n",
    "# Convert preprocessed NumPy arrays to PyTorch tensors\n",
    "X_train_tensor = torch.tensor(X_train_scaled, dtype=torch.float32)\n",
    "X_test_tensor = torch.tensor(X_test_scaled, dtype=torch.float32)\n",
    "y_train_tensor = torch.tensor(y_train.values, dtype=torch.long)  # Convert labels to tensor\n",
    "y_test_tensor = torch.tensor(y_test.values, dtype=torch.long)\n",
    "\n",
    "# Check tensor shapes\n",
    "print(\"X_train_tensor shape:\", X_train_tensor.shape)\n",
    "print(\"X_test_tensor shape:\", X_test_tensor.shape)\n",
    "print(\"y_train_tensor shape:\", y_train_tensor.shape)\n",
    "print(\"y_test_tensor shape:\", y_test_tensor.shape)"
   ]
  },
  {
   "cell_type": "markdown",
   "metadata": {},
   "source": [
    "### Model"
   ]
  },
  {
   "cell_type": "code",
   "execution_count": 361,
   "metadata": {},
   "outputs": [
    {
     "name": "stdout",
     "output_type": "stream",
     "text": [
      "Epoch [1/30] - Train Acc: 0.6025 | Val Acc: 0.4833\n",
      "Epoch [2/30] - Train Acc: 0.6109 | Val Acc: 0.4833\n",
      "Epoch [3/30] - Train Acc: 0.6234 | Val Acc: 0.4833\n",
      "Epoch [4/30] - Train Acc: 0.6778 | Val Acc: 0.8333\n",
      "Epoch [5/30] - Train Acc: 0.7824 | Val Acc: 0.9000\n",
      "Epoch [6/30] - Train Acc: 0.8285 | Val Acc: 0.9000\n",
      "Epoch [7/30] - Train Acc: 0.8619 | Val Acc: 0.9167\n",
      "Epoch [8/30] - Train Acc: 0.8703 | Val Acc: 0.9000\n",
      "Epoch [9/30] - Train Acc: 0.8577 | Val Acc: 0.9167\n",
      "Epoch [10/30] - Train Acc: 0.8703 | Val Acc: 0.9167\n",
      "Epoch [11/30] - Train Acc: 0.8870 | Val Acc: 0.9167\n",
      "Epoch [12/30] - Train Acc: 0.8828 | Val Acc: 0.9167\n",
      "Epoch [13/30] - Train Acc: 0.8703 | Val Acc: 0.9167\n",
      "Epoch [14/30] - Train Acc: 0.8912 | Val Acc: 0.9167\n",
      "Epoch [15/30] - Train Acc: 0.8912 | Val Acc: 0.9167\n",
      "Epoch [16/30] - Train Acc: 0.8912 | Val Acc: 0.9167\n",
      "Epoch [17/30] - Train Acc: 0.8828 | Val Acc: 0.9167\n",
      "Epoch [18/30] - Train Acc: 0.8954 | Val Acc: 0.9167\n",
      "Epoch [19/30] - Train Acc: 0.8828 | Val Acc: 0.9167\n",
      "Epoch [20/30] - Train Acc: 0.9079 | Val Acc: 0.9167\n",
      "Epoch [21/30] - Train Acc: 0.8828 | Val Acc: 0.9167\n",
      "Epoch [22/30] - Train Acc: 0.8870 | Val Acc: 0.9167\n",
      "Epoch [23/30] - Train Acc: 0.9038 | Val Acc: 0.9167\n",
      "Epoch [24/30] - Train Acc: 0.9121 | Val Acc: 0.9167\n",
      "Epoch [25/30] - Train Acc: 0.8996 | Val Acc: 0.9167\n",
      "Epoch [26/30] - Train Acc: 0.9038 | Val Acc: 0.9167\n",
      "Epoch [27/30] - Train Acc: 0.9121 | Val Acc: 0.9167\n",
      "Epoch [28/30] - Train Acc: 0.9038 | Val Acc: 0.9167\n",
      "Epoch [29/30] - Train Acc: 0.8954 | Val Acc: 0.9167\n",
      "Epoch [30/30] - Train Acc: 0.9121 | Val Acc: 0.9167\n"
     ]
    }
   ],
   "source": [
    "import torch\n",
    "import torch.nn as nn\n",
    "import torch.optim as optim\n",
    "from torch.utils.data import DataLoader, TensorDataset, random_split\n",
    "import numpy as np\n",
    "\n",
    "\n",
    "# Convert data to tensors\n",
    "X_tensor = torch.tensor(X_train_scaled, dtype=torch.float32)\n",
    "y_tensor = torch.tensor(y_train.values, dtype=torch.long)  # Multiclass labels\n",
    "\n",
    "# Define Dataset\n",
    "dataset = TensorDataset(X_tensor, y_tensor)\n",
    "\n",
    "# Train-test split\n",
    "train_size = int(0.8 * len(dataset))\n",
    "val_size = len(dataset) - train_size\n",
    "train_dataset, val_dataset = random_split(dataset, [train_size, val_size])\n",
    "\n",
    "train_loader = DataLoader(train_dataset, batch_size=16, shuffle=True)\n",
    "val_loader = DataLoader(val_dataset, batch_size=16, shuffle=False)\n",
    "\n",
    "# Define Neural Network Model\n",
    "class SleepDisorderNN(nn.Module):\n",
    "    def __init__(self, input_dim, num_classes=3, hidden_units=[64, 32], dropout=0.3):\n",
    "        super(SleepDisorderNN, self).__init__()\n",
    "        self.fc1 = nn.Linear(input_dim, hidden_units[0])\n",
    "        self.fc2 = nn.Linear(hidden_units[0], hidden_units[1])\n",
    "        self.fc3 = nn.Linear(hidden_units[1], num_classes)  # 3 output classes\n",
    "        self.dropout = nn.Dropout(dropout)\n",
    "    \n",
    "    def forward(self, x):\n",
    "        x = torch.relu(self.fc1(x))\n",
    "        x = self.dropout(x)\n",
    "        x = torch.relu(self.fc2(x))\n",
    "        x = self.fc3(x)  # Logits output (before softmax)\n",
    "        return x\n",
    "\n",
    "# Initialize Model\n",
    "input_dim = X_train_scaled.shape[1]  # Number of features\n",
    "num_classes = 3  # No Sleep Disorder, Sleep Apnea, Insomnia\n",
    "model = SleepDisorderNN(input_dim, num_classes)\n",
    "\n",
    "# Define Optimizer & Loss Function\n",
    "optimizer = optim.Adam(model.parameters(), lr=0.001)\n",
    "criterion = nn.CrossEntropyLoss()  # Multiclass loss\n",
    "\n",
    "# Training Loop\n",
    "def train_model(model, train_loader, val_loader, epochs=30):\n",
    "    device = torch.device(\"cuda\" if torch.cuda.is_available() else \"cpu\")\n",
    "    model.to(device)\n",
    "    \n",
    "    for epoch in range(epochs):\n",
    "        model.train()\n",
    "        total_loss, correct, total = 0, 0, 0\n",
    "        \n",
    "        for inputs, labels in train_loader:\n",
    "            inputs, labels = inputs.to(device), labels.to(device)\n",
    "\n",
    "            optimizer.zero_grad()\n",
    "            outputs = model(inputs)\n",
    "            loss = criterion(outputs, labels)\n",
    "            loss.backward()\n",
    "            optimizer.step()\n",
    "\n",
    "            total_loss += loss.item()\n",
    "            correct += (outputs.argmax(1) == labels).sum().item()\n",
    "            total += labels.size(0)\n",
    "        \n",
    "        train_acc = correct / total\n",
    "\n",
    "        # Validation Phase\n",
    "        model.eval()\n",
    "        val_loss, val_correct, val_total = 0, 0, 0\n",
    "        with torch.no_grad():\n",
    "            for inputs, labels in val_loader:\n",
    "                inputs, labels = inputs.to(device), labels.to(device)\n",
    "                outputs = model(inputs)\n",
    "                val_loss += criterion(outputs, labels).item()\n",
    "                val_correct += (outputs.argmax(1) == labels).sum().item()\n",
    "                val_total += labels.size(0)\n",
    "        \n",
    "        val_acc = val_correct / val_total\n",
    "        print(f\"Epoch [{epoch+1}/{epochs}] - Train Acc: {train_acc:.4f} | Val Acc: {val_acc:.4f}\")\n",
    "\n",
    "# Train the classifier\n",
    "train_model(model, train_loader, val_loader)\n",
    "\n"
   ]
  },
  {
   "cell_type": "code",
   "execution_count": null,
   "metadata": {},
   "outputs": [
    {
     "name": "stdout",
     "output_type": "stream",
     "text": [
      "Most Important Feature to Change: Gender\n",
      "Original Features: [[2.0e+00 0.0e+00 2.8e+01 1.0e+00 6.2e+00 6.0e+00 6.0e+01 8.0e+00 2.0e+00\n",
      "  7.5e+01 1.0e+04 1.0e+00]]\n",
      "Optimized Features (Real-World Feature Space): [[1. 0. 1. 1. 1. 1. 1. 1. 1. 1. 1. 1.]]\n"
     ]
    }
   ],
   "source": [
    "import torch\n",
    "import pandas as pd\n",
    "from torch.autograd.functional import jacobian\n",
    "\n",
    "# Modify Function to Recommend Only the Top Feature to Change\n",
    "def recommend_top_feature_to_improve(model, original_features, feature_names, lr=0.01, steps=100):\n",
    "    \"\"\"\n",
    "    Uses gradient-based optimization to suggest the single most impactful feature to change.\n",
    "    \"\"\"\n",
    "    model.eval()\n",
    "    device = torch.device(\"cuda\" if torch.cuda.is_available() else \"cpu\")\n",
    "    model.to(device)\n",
    "\n",
    "    # Convert original features to a PyTorch tensor\n",
    "    person_features = torch.tensor(original_features, dtype=torch.float32).to(device)\n",
    "    person_features = person_features.clone().detach().requires_grad_(True)\n",
    "\n",
    "    optimizer = torch.optim.Adam([person_features], lr=lr)\n",
    "\n",
    "    for step in range(steps):\n",
    "        optimizer.zero_grad()\n",
    "        \n",
    "        # ✅ Convert NumPy array back to a DataFrame to retain feature names\n",
    "        person_features_df = pd.DataFrame(person_features.cpu().detach().numpy(), columns=feature_names)\n",
    "\n",
    "        # ✅ Apply PCA transformation while retaining feature names\n",
    "        person_features_pca = pca.transform(person_features_df)[:, :-6]  # Drop last 6 components\n",
    "        person_features_pca_tensor = torch.tensor(person_features_pca, dtype=torch.float32, requires_grad=True).to(device)\n",
    "\n",
    "        # Forward pass\n",
    "        output = model(person_features_pca_tensor)\n",
    "\n",
    "        # Compute Jacobian to get gradients manually\n",
    "        def model_output(inputs):\n",
    "            return model(inputs)[:, 0]  # Extract probability of \"No Sleep Disorder\" (Class 0)\n",
    "\n",
    "        jacob = jacobian(model_output, person_features_pca_tensor)  # Compute gradients\n",
    "\n",
    "        # Fix: Flatten gradients properly\n",
    "        gradients = torch.abs(jacob.squeeze()).cpu().numpy()  # Remove extra dimensions\n",
    "        most_important_feature_idx = gradients.reshape(-1).argmax()  # Ensure correct shape\n",
    "\n",
    "        # Only update the most important feature, keep others unchanged\n",
    "        update = torch.zeros_like(person_features)\n",
    "        update[:, most_important_feature_idx] = torch.tensor(gradients[most_important_feature_idx], dtype=torch.float32).to(device)\n",
    "\n",
    "        # Apply the single feature update\n",
    "        person_features.data -= lr * update.data  # Adjust only the most important feature\n",
    "        \n",
    "        # Fix: Ensure min/max values match the number of features dynamically\n",
    "        num_features = person_features.shape[1]\n",
    "        min_values = torch.full((num_features,), 0, dtype=torch.float32, device=device)  # Set a reasonable minimum (adjust if needed)\n",
    "        max_values = torch.full((num_features,), 1, dtype=torch.float32, device=device)  # Set a reasonable maximum (adjust if needed)\n",
    "\n",
    "        # Clip values to ensure realistic feature adjustments\n",
    "        person_features.data = torch.clamp(person_features.data, min=min_values, max=max_values)\n",
    "\n",
    "        optimizer.zero_grad()  # Reset gradients\n",
    "\n",
    "    return most_important_feature_idx, person_features.detach().cpu().numpy()  # Return index and optimized features\n",
    "\n",
    "\n",
    "# Select an Example Person's Original Features (BEFORE PCA)\n",
    "new_person_features = Train_df.iloc[0].to_numpy().reshape(1, -1)  # Selects first row as NumPy array and ensures 2D shape\n",
    "\n",
    "# Get feature names from Train_df\n",
    "feature_names = Train_df.columns.tolist()\n",
    "\n",
    "# Get Optimized Feature Recommendations\n",
    "top_feature_idx, optimized_features = recommend_top_feature_to_improve(model, new_person_features, feature_names)  # Pass original features\n",
    "\n",
    "# Compare Original vs. Recommended Feature Changes\n",
    "print(f\"Most Important Feature to Change: {feature_names[top_feature_idx]}\")\n",
    "print(\"Original Features:\", new_person_features)\n",
    "print(\"Optimized Features (Real-World Feature Space):\", optimized_features)\n",
    "\n",
    "\n"
   ]
  }
 ],
 "metadata": {
  "kernelspec": {
   "display_name": "Python 3",
   "language": "python",
   "name": "python3"
  },
  "language_info": {
   "codemirror_mode": {
    "name": "ipython",
    "version": 3
   },
   "file_extension": ".py",
   "mimetype": "text/x-python",
   "name": "python",
   "nbconvert_exporter": "python",
   "pygments_lexer": "ipython3",
   "version": "3.12.0"
  }
 },
 "nbformat": 4,
 "nbformat_minor": 2
}
